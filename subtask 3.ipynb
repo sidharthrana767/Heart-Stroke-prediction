{
 "cells": [
  {
   "cell_type": "code",
   "execution_count": 1,
   "id": "db16bf77",
   "metadata": {},
   "outputs": [],
   "source": [
    "import pandas as pd\n",
    "import sklearn\n",
    "import matplotlib.pyplot as plt\n",
    "import numpy as np\n",
    "import seaborn as sns\n",
    "from sklearn.model_selection import train_test_split\n",
    "from sklearn.metrics import classification_report,confusion_matrix\n",
    "from sklearn.linear_model import LogisticRegression\n",
    "from sklearn.model_selection import GridSearchCV"
   ]
  },
  {
   "cell_type": "code",
   "execution_count": 2,
   "id": "ec5cb142",
   "metadata": {},
   "outputs": [],
   "source": [
    "data= pd.read_csv('stroke-data.csv')"
   ]
  },
  {
   "cell_type": "code",
   "execution_count": 3,
   "id": "842fc7f8",
   "metadata": {},
   "outputs": [
    {
     "name": "stdout",
     "output_type": "stream",
     "text": [
      "<class 'pandas.core.frame.DataFrame'>\n",
      "RangeIndex: 5110 entries, 0 to 5109\n",
      "Data columns (total 12 columns):\n",
      " #   Column             Non-Null Count  Dtype  \n",
      "---  ------             --------------  -----  \n",
      " 0   id                 5110 non-null   int64  \n",
      " 1   gender             5110 non-null   object \n",
      " 2   age                5110 non-null   float64\n",
      " 3   hypertension       5110 non-null   int64  \n",
      " 4   heart_disease      5110 non-null   int64  \n",
      " 5   ever_married       5110 non-null   object \n",
      " 6   work_type          5110 non-null   object \n",
      " 7   Residence_type     5110 non-null   object \n",
      " 8   avg_glucose_level  5110 non-null   float64\n",
      " 9   bmi                4909 non-null   float64\n",
      " 10  smoking_status     5110 non-null   object \n",
      " 11  stroke             5110 non-null   int64  \n",
      "dtypes: float64(3), int64(4), object(5)\n",
      "memory usage: 479.2+ KB\n"
     ]
    }
   ],
   "source": [
    "data.info()"
   ]
  },
  {
   "cell_type": "code",
   "execution_count": 4,
   "id": "4ded74c8",
   "metadata": {},
   "outputs": [
    {
     "data": {
      "text/html": [
       "<div>\n",
       "<style scoped>\n",
       "    .dataframe tbody tr th:only-of-type {\n",
       "        vertical-align: middle;\n",
       "    }\n",
       "\n",
       "    .dataframe tbody tr th {\n",
       "        vertical-align: top;\n",
       "    }\n",
       "\n",
       "    .dataframe thead th {\n",
       "        text-align: right;\n",
       "    }\n",
       "</style>\n",
       "<table border=\"1\" class=\"dataframe\">\n",
       "  <thead>\n",
       "    <tr style=\"text-align: right;\">\n",
       "      <th></th>\n",
       "      <th>id</th>\n",
       "      <th>age</th>\n",
       "      <th>hypertension</th>\n",
       "      <th>heart_disease</th>\n",
       "      <th>avg_glucose_level</th>\n",
       "      <th>bmi</th>\n",
       "      <th>stroke</th>\n",
       "    </tr>\n",
       "  </thead>\n",
       "  <tbody>\n",
       "    <tr>\n",
       "      <th>count</th>\n",
       "      <td>5110.000000</td>\n",
       "      <td>5110.000000</td>\n",
       "      <td>5110.000000</td>\n",
       "      <td>5110.000000</td>\n",
       "      <td>5110.000000</td>\n",
       "      <td>4909.000000</td>\n",
       "      <td>5110.000000</td>\n",
       "    </tr>\n",
       "    <tr>\n",
       "      <th>mean</th>\n",
       "      <td>36517.829354</td>\n",
       "      <td>43.226614</td>\n",
       "      <td>0.097456</td>\n",
       "      <td>0.054012</td>\n",
       "      <td>106.147677</td>\n",
       "      <td>28.893237</td>\n",
       "      <td>0.048728</td>\n",
       "    </tr>\n",
       "    <tr>\n",
       "      <th>std</th>\n",
       "      <td>21161.721625</td>\n",
       "      <td>22.612647</td>\n",
       "      <td>0.296607</td>\n",
       "      <td>0.226063</td>\n",
       "      <td>45.283560</td>\n",
       "      <td>7.854067</td>\n",
       "      <td>0.215320</td>\n",
       "    </tr>\n",
       "    <tr>\n",
       "      <th>min</th>\n",
       "      <td>67.000000</td>\n",
       "      <td>0.080000</td>\n",
       "      <td>0.000000</td>\n",
       "      <td>0.000000</td>\n",
       "      <td>55.120000</td>\n",
       "      <td>10.300000</td>\n",
       "      <td>0.000000</td>\n",
       "    </tr>\n",
       "    <tr>\n",
       "      <th>25%</th>\n",
       "      <td>17741.250000</td>\n",
       "      <td>25.000000</td>\n",
       "      <td>0.000000</td>\n",
       "      <td>0.000000</td>\n",
       "      <td>77.245000</td>\n",
       "      <td>23.500000</td>\n",
       "      <td>0.000000</td>\n",
       "    </tr>\n",
       "    <tr>\n",
       "      <th>50%</th>\n",
       "      <td>36932.000000</td>\n",
       "      <td>45.000000</td>\n",
       "      <td>0.000000</td>\n",
       "      <td>0.000000</td>\n",
       "      <td>91.885000</td>\n",
       "      <td>28.100000</td>\n",
       "      <td>0.000000</td>\n",
       "    </tr>\n",
       "    <tr>\n",
       "      <th>75%</th>\n",
       "      <td>54682.000000</td>\n",
       "      <td>61.000000</td>\n",
       "      <td>0.000000</td>\n",
       "      <td>0.000000</td>\n",
       "      <td>114.090000</td>\n",
       "      <td>33.100000</td>\n",
       "      <td>0.000000</td>\n",
       "    </tr>\n",
       "    <tr>\n",
       "      <th>max</th>\n",
       "      <td>72940.000000</td>\n",
       "      <td>82.000000</td>\n",
       "      <td>1.000000</td>\n",
       "      <td>1.000000</td>\n",
       "      <td>271.740000</td>\n",
       "      <td>97.600000</td>\n",
       "      <td>1.000000</td>\n",
       "    </tr>\n",
       "  </tbody>\n",
       "</table>\n",
       "</div>"
      ],
      "text/plain": [
       "                 id          age  hypertension  heart_disease  \\\n",
       "count   5110.000000  5110.000000   5110.000000    5110.000000   \n",
       "mean   36517.829354    43.226614      0.097456       0.054012   \n",
       "std    21161.721625    22.612647      0.296607       0.226063   \n",
       "min       67.000000     0.080000      0.000000       0.000000   \n",
       "25%    17741.250000    25.000000      0.000000       0.000000   \n",
       "50%    36932.000000    45.000000      0.000000       0.000000   \n",
       "75%    54682.000000    61.000000      0.000000       0.000000   \n",
       "max    72940.000000    82.000000      1.000000       1.000000   \n",
       "\n",
       "       avg_glucose_level          bmi       stroke  \n",
       "count        5110.000000  4909.000000  5110.000000  \n",
       "mean          106.147677    28.893237     0.048728  \n",
       "std            45.283560     7.854067     0.215320  \n",
       "min            55.120000    10.300000     0.000000  \n",
       "25%            77.245000    23.500000     0.000000  \n",
       "50%            91.885000    28.100000     0.000000  \n",
       "75%           114.090000    33.100000     0.000000  \n",
       "max           271.740000    97.600000     1.000000  "
      ]
     },
     "execution_count": 4,
     "metadata": {},
     "output_type": "execute_result"
    }
   ],
   "source": [
    "data.describe()"
   ]
  },
  {
   "cell_type": "code",
   "execution_count": 5,
   "id": "5fbe4591",
   "metadata": {},
   "outputs": [
    {
     "data": {
      "text/plain": [
       "id                     0\n",
       "gender                 0\n",
       "age                    0\n",
       "hypertension           0\n",
       "heart_disease          0\n",
       "ever_married           0\n",
       "work_type              0\n",
       "Residence_type         0\n",
       "avg_glucose_level      0\n",
       "bmi                  201\n",
       "smoking_status         0\n",
       "stroke                 0\n",
       "dtype: int64"
      ]
     },
     "execution_count": 5,
     "metadata": {},
     "output_type": "execute_result"
    }
   ],
   "source": [
    "data.isnull().sum()"
   ]
  },
  {
   "cell_type": "code",
   "execution_count": 6,
   "id": "107e8eb4",
   "metadata": {},
   "outputs": [],
   "source": [
    "data.dropna(inplace=True)"
   ]
  },
  {
   "cell_type": "markdown",
   "id": "b7ba15d9",
   "metadata": {},
   "source": [
    "Removed the rows with null values present in bmi columns"
   ]
  },
  {
   "cell_type": "code",
   "execution_count": 8,
   "id": "aba249da",
   "metadata": {},
   "outputs": [
    {
     "data": {
      "text/html": [
       "<div>\n",
       "<style scoped>\n",
       "    .dataframe tbody tr th:only-of-type {\n",
       "        vertical-align: middle;\n",
       "    }\n",
       "\n",
       "    .dataframe tbody tr th {\n",
       "        vertical-align: top;\n",
       "    }\n",
       "\n",
       "    .dataframe thead th {\n",
       "        text-align: right;\n",
       "    }\n",
       "</style>\n",
       "<table border=\"1\" class=\"dataframe\">\n",
       "  <thead>\n",
       "    <tr style=\"text-align: right;\">\n",
       "      <th></th>\n",
       "      <th>gender</th>\n",
       "      <th>age</th>\n",
       "      <th>hypertension</th>\n",
       "      <th>heart_disease</th>\n",
       "      <th>avg_glucose_level</th>\n",
       "      <th>bmi</th>\n",
       "      <th>smoking_status</th>\n",
       "      <th>stroke</th>\n",
       "    </tr>\n",
       "  </thead>\n",
       "  <tbody>\n",
       "    <tr>\n",
       "      <th>0</th>\n",
       "      <td>Male</td>\n",
       "      <td>67.0</td>\n",
       "      <td>0</td>\n",
       "      <td>1</td>\n",
       "      <td>228.69</td>\n",
       "      <td>36.6</td>\n",
       "      <td>formerly smoked</td>\n",
       "      <td>1</td>\n",
       "    </tr>\n",
       "    <tr>\n",
       "      <th>2</th>\n",
       "      <td>Male</td>\n",
       "      <td>80.0</td>\n",
       "      <td>0</td>\n",
       "      <td>1</td>\n",
       "      <td>105.92</td>\n",
       "      <td>32.5</td>\n",
       "      <td>never smoked</td>\n",
       "      <td>1</td>\n",
       "    </tr>\n",
       "    <tr>\n",
       "      <th>3</th>\n",
       "      <td>Female</td>\n",
       "      <td>49.0</td>\n",
       "      <td>0</td>\n",
       "      <td>0</td>\n",
       "      <td>171.23</td>\n",
       "      <td>34.4</td>\n",
       "      <td>smokes</td>\n",
       "      <td>1</td>\n",
       "    </tr>\n",
       "    <tr>\n",
       "      <th>4</th>\n",
       "      <td>Female</td>\n",
       "      <td>79.0</td>\n",
       "      <td>1</td>\n",
       "      <td>0</td>\n",
       "      <td>174.12</td>\n",
       "      <td>24.0</td>\n",
       "      <td>never smoked</td>\n",
       "      <td>1</td>\n",
       "    </tr>\n",
       "    <tr>\n",
       "      <th>5</th>\n",
       "      <td>Male</td>\n",
       "      <td>81.0</td>\n",
       "      <td>0</td>\n",
       "      <td>0</td>\n",
       "      <td>186.21</td>\n",
       "      <td>29.0</td>\n",
       "      <td>formerly smoked</td>\n",
       "      <td>1</td>\n",
       "    </tr>\n",
       "  </tbody>\n",
       "</table>\n",
       "</div>"
      ],
      "text/plain": [
       "   gender   age  hypertension  heart_disease  avg_glucose_level   bmi  \\\n",
       "0    Male  67.0             0              1             228.69  36.6   \n",
       "2    Male  80.0             0              1             105.92  32.5   \n",
       "3  Female  49.0             0              0             171.23  34.4   \n",
       "4  Female  79.0             1              0             174.12  24.0   \n",
       "5    Male  81.0             0              0             186.21  29.0   \n",
       "\n",
       "    smoking_status  stroke  \n",
       "0  formerly smoked       1  \n",
       "2     never smoked       1  \n",
       "3           smokes       1  \n",
       "4     never smoked       1  \n",
       "5  formerly smoked       1  "
      ]
     },
     "execution_count": 8,
     "metadata": {},
     "output_type": "execute_result"
    }
   ],
   "source": [
    "col=['gender','age','hypertension','heart_disease','avg_glucose_level','bmi','smoking_status','stroke']\n",
    "new_data=data[col].copy()\n"
   ]
  },
  {
   "cell_type": "markdown",
   "id": "370705cc",
   "metadata": {},
   "source": [
    "Based on my learnings from article 1 these are the features I selected. \n",
    "Males were more prone to strokes when compared to females.\n",
    "People with hypertension were more to stroke.\n",
    "People who smoked were at a high risk of strokes."
   ]
  },
  {
   "cell_type": "code",
   "execution_count": 43,
   "id": "c7fa8b18",
   "metadata": {},
   "outputs": [
    {
     "data": {
      "text/html": [
       "<div>\n",
       "<style scoped>\n",
       "    .dataframe tbody tr th:only-of-type {\n",
       "        vertical-align: middle;\n",
       "    }\n",
       "\n",
       "    .dataframe tbody tr th {\n",
       "        vertical-align: top;\n",
       "    }\n",
       "\n",
       "    .dataframe thead th {\n",
       "        text-align: right;\n",
       "    }\n",
       "</style>\n",
       "<table border=\"1\" class=\"dataframe\">\n",
       "  <thead>\n",
       "    <tr style=\"text-align: right;\">\n",
       "      <th></th>\n",
       "      <th>gender</th>\n",
       "      <th>age</th>\n",
       "      <th>hypertension</th>\n",
       "      <th>heart_disease</th>\n",
       "      <th>avg_glucose_level</th>\n",
       "      <th>bmi</th>\n",
       "      <th>smoking_status</th>\n",
       "      <th>stroke</th>\n",
       "      <th>glucose_category</th>\n",
       "      <th>bmi_category</th>\n",
       "      <th>age_category</th>\n",
       "      <th>age_cat</th>\n",
       "      <th>glucose_cat</th>\n",
       "      <th>bmi_cat</th>\n",
       "    </tr>\n",
       "  </thead>\n",
       "  <tbody>\n",
       "    <tr>\n",
       "      <th>0</th>\n",
       "      <td>Male</td>\n",
       "      <td>67.0</td>\n",
       "      <td>0</td>\n",
       "      <td>1</td>\n",
       "      <td>228.69</td>\n",
       "      <td>36.6</td>\n",
       "      <td>formerly smoked</td>\n",
       "      <td>1</td>\n",
       "      <td>diabetic</td>\n",
       "      <td>obesity</td>\n",
       "      <td>middle adult</td>\n",
       "      <td>middle adult</td>\n",
       "      <td>diabetic</td>\n",
       "      <td>obesity</td>\n",
       "    </tr>\n",
       "    <tr>\n",
       "      <th>2</th>\n",
       "      <td>Male</td>\n",
       "      <td>80.0</td>\n",
       "      <td>0</td>\n",
       "      <td>1</td>\n",
       "      <td>105.92</td>\n",
       "      <td>32.5</td>\n",
       "      <td>never smoked</td>\n",
       "      <td>1</td>\n",
       "      <td>prediabetic</td>\n",
       "      <td>obesity</td>\n",
       "      <td>very old</td>\n",
       "      <td>very old</td>\n",
       "      <td>prediabetic</td>\n",
       "      <td>obesity</td>\n",
       "    </tr>\n",
       "    <tr>\n",
       "      <th>3</th>\n",
       "      <td>Female</td>\n",
       "      <td>49.0</td>\n",
       "      <td>0</td>\n",
       "      <td>0</td>\n",
       "      <td>171.23</td>\n",
       "      <td>34.4</td>\n",
       "      <td>smokes</td>\n",
       "      <td>1</td>\n",
       "      <td>diabetic</td>\n",
       "      <td>obesity</td>\n",
       "      <td>young adult</td>\n",
       "      <td>young adult</td>\n",
       "      <td>diabetic</td>\n",
       "      <td>obesity</td>\n",
       "    </tr>\n",
       "    <tr>\n",
       "      <th>4</th>\n",
       "      <td>Female</td>\n",
       "      <td>79.0</td>\n",
       "      <td>1</td>\n",
       "      <td>0</td>\n",
       "      <td>174.12</td>\n",
       "      <td>24.0</td>\n",
       "      <td>never smoked</td>\n",
       "      <td>1</td>\n",
       "      <td>diabetic</td>\n",
       "      <td>healthy weight</td>\n",
       "      <td>middle adult</td>\n",
       "      <td>middle adult</td>\n",
       "      <td>diabetic</td>\n",
       "      <td>healthy weight</td>\n",
       "    </tr>\n",
       "    <tr>\n",
       "      <th>5</th>\n",
       "      <td>Male</td>\n",
       "      <td>81.0</td>\n",
       "      <td>0</td>\n",
       "      <td>0</td>\n",
       "      <td>186.21</td>\n",
       "      <td>29.0</td>\n",
       "      <td>formerly smoked</td>\n",
       "      <td>1</td>\n",
       "      <td>diabetic</td>\n",
       "      <td>overweight</td>\n",
       "      <td>very old</td>\n",
       "      <td>very old</td>\n",
       "      <td>diabetic</td>\n",
       "      <td>overweight</td>\n",
       "    </tr>\n",
       "    <tr>\n",
       "      <th>6</th>\n",
       "      <td>Male</td>\n",
       "      <td>74.0</td>\n",
       "      <td>1</td>\n",
       "      <td>1</td>\n",
       "      <td>70.09</td>\n",
       "      <td>27.4</td>\n",
       "      <td>never smoked</td>\n",
       "      <td>1</td>\n",
       "      <td>mid risk</td>\n",
       "      <td>overweight</td>\n",
       "      <td>middle adult</td>\n",
       "      <td>middle adult</td>\n",
       "      <td>mid risk</td>\n",
       "      <td>overweight</td>\n",
       "    </tr>\n",
       "    <tr>\n",
       "      <th>7</th>\n",
       "      <td>Female</td>\n",
       "      <td>69.0</td>\n",
       "      <td>0</td>\n",
       "      <td>0</td>\n",
       "      <td>94.39</td>\n",
       "      <td>22.8</td>\n",
       "      <td>never smoked</td>\n",
       "      <td>1</td>\n",
       "      <td>optimal</td>\n",
       "      <td>healthy weight</td>\n",
       "      <td>middle adult</td>\n",
       "      <td>middle adult</td>\n",
       "      <td>optimal</td>\n",
       "      <td>healthy weight</td>\n",
       "    </tr>\n",
       "    <tr>\n",
       "      <th>9</th>\n",
       "      <td>Female</td>\n",
       "      <td>78.0</td>\n",
       "      <td>0</td>\n",
       "      <td>0</td>\n",
       "      <td>58.57</td>\n",
       "      <td>24.2</td>\n",
       "      <td>Unknown</td>\n",
       "      <td>1</td>\n",
       "      <td>low risk</td>\n",
       "      <td>healthy weight</td>\n",
       "      <td>middle adult</td>\n",
       "      <td>middle adult</td>\n",
       "      <td>low risk</td>\n",
       "      <td>healthy weight</td>\n",
       "    </tr>\n",
       "    <tr>\n",
       "      <th>10</th>\n",
       "      <td>Female</td>\n",
       "      <td>81.0</td>\n",
       "      <td>1</td>\n",
       "      <td>0</td>\n",
       "      <td>80.43</td>\n",
       "      <td>29.7</td>\n",
       "      <td>never smoked</td>\n",
       "      <td>1</td>\n",
       "      <td>mid risk</td>\n",
       "      <td>overweight</td>\n",
       "      <td>very old</td>\n",
       "      <td>very old</td>\n",
       "      <td>mid risk</td>\n",
       "      <td>overweight</td>\n",
       "    </tr>\n",
       "    <tr>\n",
       "      <th>11</th>\n",
       "      <td>Female</td>\n",
       "      <td>61.0</td>\n",
       "      <td>0</td>\n",
       "      <td>1</td>\n",
       "      <td>120.46</td>\n",
       "      <td>36.8</td>\n",
       "      <td>smokes</td>\n",
       "      <td>1</td>\n",
       "      <td>prediabetic</td>\n",
       "      <td>obesity</td>\n",
       "      <td>middle adult</td>\n",
       "      <td>middle adult</td>\n",
       "      <td>prediabetic</td>\n",
       "      <td>obesity</td>\n",
       "    </tr>\n",
       "  </tbody>\n",
       "</table>\n",
       "</div>"
      ],
      "text/plain": [
       "    gender   age  hypertension  heart_disease  avg_glucose_level   bmi  \\\n",
       "0     Male  67.0             0              1             228.69  36.6   \n",
       "2     Male  80.0             0              1             105.92  32.5   \n",
       "3   Female  49.0             0              0             171.23  34.4   \n",
       "4   Female  79.0             1              0             174.12  24.0   \n",
       "5     Male  81.0             0              0             186.21  29.0   \n",
       "6     Male  74.0             1              1              70.09  27.4   \n",
       "7   Female  69.0             0              0              94.39  22.8   \n",
       "9   Female  78.0             0              0              58.57  24.2   \n",
       "10  Female  81.0             1              0              80.43  29.7   \n",
       "11  Female  61.0             0              1             120.46  36.8   \n",
       "\n",
       "     smoking_status  stroke glucose_category    bmi_category  age_category  \\\n",
       "0   formerly smoked       1         diabetic         obesity  middle adult   \n",
       "2      never smoked       1      prediabetic         obesity      very old   \n",
       "3            smokes       1         diabetic         obesity   young adult   \n",
       "4      never smoked       1         diabetic  healthy weight  middle adult   \n",
       "5   formerly smoked       1         diabetic      overweight      very old   \n",
       "6      never smoked       1         mid risk      overweight  middle adult   \n",
       "7      never smoked       1          optimal  healthy weight  middle adult   \n",
       "9           Unknown       1         low risk  healthy weight  middle adult   \n",
       "10     never smoked       1         mid risk      overweight      very old   \n",
       "11           smokes       1      prediabetic         obesity  middle adult   \n",
       "\n",
       "         age_cat  glucose_cat         bmi_cat  \n",
       "0   middle adult     diabetic         obesity  \n",
       "2       very old  prediabetic         obesity  \n",
       "3    young adult     diabetic         obesity  \n",
       "4   middle adult     diabetic  healthy weight  \n",
       "5       very old     diabetic      overweight  \n",
       "6   middle adult     mid risk      overweight  \n",
       "7   middle adult      optimal  healthy weight  \n",
       "9   middle adult     low risk  healthy weight  \n",
       "10      very old     mid risk      overweight  \n",
       "11  middle adult  prediabetic         obesity  "
      ]
     },
     "execution_count": 43,
     "metadata": {},
     "output_type": "execute_result"
    }
   ],
   "source": [
    "b=[0,25.1,50.1,80,102.5,np.inf]\n",
    "l=['very young','young adult','middle adult','very old','out of range']\n",
    "new_data['age_cat']=pd.cut(new_data['age'],bins=b,labels=l,right=False)\n",
    "\n",
    "gb=[0,70,85,100,126,np.inf]\n",
    "gl=['low risk','mid risk','optimal','prediabetic','diabetic']\n",
    "new_data['glucose_cat']=pd.cut(new_data['avg_glucose_level'],bins=gb,labels=gl,right=False)\n",
    "\n",
    "bb=[0,18.5,25,30,float('inf')]\n",
    "bl=['underweight','healthy weight','overweight','obesity']\n",
    "new_data['bmi_cat']=pd.cut(new_data['bmi'],bins=bb,labels=bl,right=False)\n",
    "new_data.head(10)"
   ]
  },
  {
   "cell_type": "markdown",
   "id": "8418e21d",
   "metadata": {},
   "source": [
    "def age_category(age):\n",
    "    if age >= 25.1 and age <=49.9:\n",
    "        return  'young adult'\n",
    "    elif age >= 50.1 and age <=79.9:\n",
    "        return  'middle adult'\n",
    "    elif age >= 80.0 and age <=102.5:\n",
    "        return  'very old'\n",
    "    elif age<=25:\n",
    "        return 'very young'\n",
    "    else:\n",
    "        return 'out of range'\n",
    "    \n",
    "\n",
    "new_df['age_category']=new_df['age'].apply(age_category)\n",
    "new_df.head(5)"
   ]
  },
  {
   "cell_type": "markdown",
   "id": "ce66e683",
   "metadata": {},
   "source": [
    "Based on the articles provided by the medical team, I converted age, bmi and avg_glucose_level into categorical variables."
   ]
  },
  {
   "cell_type": "code",
   "execution_count": 25,
   "id": "c5d46937",
   "metadata": {},
   "outputs": [],
   "source": []
  },
  {
   "cell_type": "code",
   "execution_count": 44,
   "id": "47ecb561",
   "metadata": {},
   "outputs": [
    {
     "data": {
      "text/plain": [
       "Text(0.5, 1.0, 'stroke distribution by gender')"
      ]
     },
     "execution_count": 44,
     "metadata": {},
     "output_type": "execute_result"
    },
    {
     "data": {
      "image/png": "[encoded data removed]",
      "text/plain": [
       "<Figure size 432x288 with 1 Axes>"
      ]
     },
     "metadata": {
      "needs_background": "light"
     },
     "output_type": "display_data"
    }
   ],
   "source": [
    "sns.countplot(data=new_data,x='gender',hue='stroke')\n",
    "plt.title(\"stroke distribution by gender\")"
   ]
  },
  {
   "cell_type": "code",
   "execution_count": 45,
   "id": "b30dea8a",
   "metadata": {},
   "outputs": [
    {
     "data": {
      "text/plain": [
       "(array([0, 1, 2, 3]),\n",
       " [Text(0, 0, 'formerly smoked'),\n",
       "  Text(1, 0, 'never smoked'),\n",
       "  Text(2, 0, 'smokes'),\n",
       "  Text(3, 0, 'Unknown')])"
      ]
     },
     "execution_count": 45,
     "metadata": {},
     "output_type": "execute_result"
    },
    {
     "data": {
      "image/png": "[encoded data removed]",
      "text/plain": [
       "<Figure size 432x288 with 1 Axes>"
      ]
     },
     "metadata": {
      "needs_background": "light"
     },
     "output_type": "display_data"
    }
   ],
   "source": [
    "sns.countplot(data=new_data,x='smoking_status',hue='stroke')\n",
    "plt.title(\"stroke distribution by smoking status\")\n",
    "plt.xticks(rotation=45)"
   ]
  },
  {
   "cell_type": "code",
   "execution_count": 28,
   "id": "e825af0c",
   "metadata": {},
   "outputs": [
    {
     "data": {
      "text/plain": [
       "Text(0.5, 1.0, 'correlation matrix')"
      ]
     },
     "execution_count": 28,
     "metadata": {},
     "output_type": "execute_result"
    },
    {
     "data": {
      "image/png": "[encoded data removed]",
      "text/plain": [
       "<Figure size 432x288 with 2 Axes>"
      ]
     },
     "metadata": {
      "needs_background": "light"
     },
     "output_type": "display_data"
    }
   ],
   "source": [
    "correlation=new_data[['age','avg_glucose_level','bmi','stroke']].corr()\n",
    "sns.heatmap(correlation,annot=True,cmap='coolwarm')\n",
    "plt.title('correlation matrix')"
   ]
  },
  {
   "cell_type": "code",
   "execution_count": 46,
   "id": "c9280314",
   "metadata": {},
   "outputs": [
    {
     "data": {
      "text/plain": [
       "Text(0.5, 1.0, 'stroke v/s glucose level ')"
      ]
     },
     "execution_count": 46,
     "metadata": {},
     "output_type": "execute_result"
    },
    {
     "data": {
      "image/png": "[encoded data removed]",
      "text/plain": [
       "<Figure size 432x288 with 1 Axes>"
      ]
     },
     "metadata": {
      "needs_background": "light"
     },
     "output_type": "display_data"
    }
   ],
   "source": [
    "sns.violinplot(data=new_data,x='stroke',y='avg_glucose_level',inner='quartile')\n",
    "plt.title('stroke v/s glucose level ')"
   ]
  },
  {
   "cell_type": "code",
   "execution_count": 47,
   "id": "bbf21877",
   "metadata": {},
   "outputs": [
    {
     "data": {
      "text/plain": [
       "(array([0, 1, 2, 3, 4]),\n",
       " [Text(0, 0, 'very young'),\n",
       "  Text(1, 0, 'young adult'),\n",
       "  Text(2, 0, 'middle adult'),\n",
       "  Text(3, 0, 'very old'),\n",
       "  Text(4, 0, 'out of range')])"
      ]
     },
     "execution_count": 47,
     "metadata": {},
     "output_type": "execute_result"
    },
    {
     "data": {
      "image/png": "[encoded data removed]",
      "text/plain": [
       "<Figure size 432x288 with 1 Axes>"
      ]
     },
     "metadata": {
      "needs_background": "light"
     },
     "output_type": "display_data"
    }
   ],
   "source": [
    "sns.countplot(data=new_data,x='age_category',hue='stroke')\n",
    "plt.title(\"stroke v/s age category\")\n",
    "plt.xticks(rotation=45)"
   ]
  },
  {
   "cell_type": "code",
   "execution_count": null,
   "id": "b7791c9f",
   "metadata": {},
   "outputs": [],
   "source": [
    "sns.countplot(data=new_data,x='bmi_category',hue='stroke')\n",
    "plt.title(\"stroke v/s bmi category\")\n",
    "plt.xticks(rotation=45)"
   ]
  },
  {
   "cell_type": "markdown",
   "id": "70f15259",
   "metadata": {},
   "source": [
    "I visualized the effects of various features against stroke to better understand the impact of various features."
   ]
  },
  {
   "cell_type": "code",
   "execution_count": 32,
   "id": "a64e9c16",
   "metadata": {},
   "outputs": [],
   "source": [
    "feat=['gender','hypertension','heart_disease','smoking_status','age_category','bmi_category','glucose_category']\n",
    "X=new_data[feat]\n",
    "Y=new_data['stroke']\n"
   ]
  },
  {
   "cell_type": "code",
   "execution_count": 33,
   "id": "d5fcf4da",
   "metadata": {},
   "outputs": [],
   "source": []
  },
  {
   "cell_type": "code",
   "execution_count": 36,
   "id": "a966efd6",
   "metadata": {},
   "outputs": [],
   "source": [
    "c_data=['gender','smoking_status','age_category','bmi_category','glucose_category']\n",
    "n_data=['hypertension','heart_disease']\n",
    "X_encoding=pd.get_dummies(X,columns=c_data,drop_first=True)\n",
    "X_train,X_test,Y_train,Y_test=train_test_split(X_encoding,Y,test_size=0.15,random_state=42,stratify=Y)"
   ]
  },
  {
   "cell_type": "markdown",
   "id": "ca25068d",
   "metadata": {},
   "source": [
    "Performed encoding on the dataframe to convert the categorical data to use it in machine learning model."
   ]
  },
  {
   "cell_type": "code",
   "execution_count": 37,
   "id": "2985c6cc",
   "metadata": {},
   "outputs": [],
   "source": [
    "\n"
   ]
  },
  {
   "cell_type": "markdown",
   "id": "04d4ed3c",
   "metadata": {},
   "source": [
    "from imblearn.over_sampling import SMOTE\n",
    "smote=SMOTE(random_state=42)\n",
    "X_sm,Y_sm=smote.fit_resample(X_train,Y_train)"
   ]
  },
  {
   "cell_type": "markdown",
   "id": "19fc0ff4",
   "metadata": {},
   "source": [
    "!pip install xgboost"
   ]
  },
  {
   "cell_type": "markdown",
   "id": "65c911fe",
   "metadata": {},
   "source": [
    "from xgboost import XGBClassifier\n",
    "from sklearn.model_selection import GridSearchCV\n",
    "\n",
    "model=XGBClassifier()\n",
    "scale=Y_train.value_counts()[0]/Y_train.value_counts()[1]\n",
    "pg={'n_estimators': [100,200],\n",
    "            'learning_rate':[0.01,0.1],\n",
    "           'max_depth':[3,5],\n",
    "           'scale_pos_weight':[scale,scale*1.5],\n",
    "   }\n",
    "gs=GridSearchCV(estimator=model,param_grid=pg,cv=3,scoring='f1',verbose=1)\n",
    "gs.fit(X_sm,Y_sm)\n",
    "optimal_model=gs.best_estimator_\n"
   ]
  },
  {
   "cell_type": "markdown",
   "id": "a95b15b4",
   "metadata": {},
   "source": [
    "y_proba=optimal_model.predict_proba(X_val)[:,1]\n",
    "y_prediction=(y_proba>=0.4).astype(int)\n",
    "print(\"Classification report\")\n",
    "print(classification_report(Y_val,y_prediction))"
   ]
  },
  {
   "cell_type": "markdown",
   "id": "8df70d9b",
   "metadata": {},
   "source": [
    "y_prob=optimal_model.predict_proba(X_test)[:,1]\n",
    "\n",
    "y_test_prediction=(y_prob>=0.4).astype(int)#optimal_model.predict(X_test)\n",
    "print(\"classification report\")\n",
    "print(classification_report(Y_test,y_test_prediction))\n",
    "print(\"confusion matrix\")\n",
    "print(confusion_matrix(Y_test,y_test_prediction))\n"
   ]
  },
  {
   "cell_type": "code",
   "execution_count": 41,
   "id": "2e14192b",
   "metadata": {},
   "outputs": [
    {
     "name": "stdout",
     "output_type": "stream",
     "text": [
      "Best Logistic Regression: {'C': 10, 'solver': 'liblinear'}\n",
      "Logistic Regression Report:\n",
      "              precision    recall  f1-score   support\n",
      "\n",
      "           0       0.99      0.61      0.76       706\n",
      "           1       0.09      0.84      0.16        31\n",
      "\n",
      "    accuracy                           0.62       737\n",
      "   macro avg       0.54      0.73      0.46       737\n",
      "weighted avg       0.95      0.62      0.73       737\n",
      "\n"
     ]
    }
   ],
   "source": [
    "\n",
    "\n",
    "lr = LogisticRegression(max_iter=1000, class_weight='balanced', random_state=42)\n",
    "\n",
    "param_grid = {\n",
    "    'C': [0.01, 0.1, 1, 10],\n",
    "    'solver': ['liblinear', 'lbfgs']\n",
    "}\n",
    "\n",
    "gl = GridSearchCV(lr, param_grid, cv=3, scoring='f1', n_jobs=-1)\n",
    "gl.fit(X_train, Y_train)\n",
    "\n",
    "best_lr = gl.best_estimator_\n",
    "print(\"Best parameter:\", grid_lr.best_params_)\n",
    "\n"
   ]
  },
  {
   "cell_type": "code",
   "execution_count": null,
   "id": "8d2b7f76",
   "metadata": {},
   "outputs": [],
   "source": [
    "y_pred = best_lr.predict(X_test)\n"
   ]
  },
  {
   "cell_type": "code",
   "execution_count": null,
   "id": "8aab2090",
   "metadata": {},
   "outputs": [],
   "source": [
    "print(\"classification Report:\")\n",
    "print(classification_report(Y_test, y_pred))\n"
   ]
  },
  {
   "cell_type": "code",
   "execution_count": null,
   "id": "320aeff9",
   "metadata": {},
   "outputs": [],
   "source": [
    "print(\"confusion matrix\")\n",
    "print(confusion_matrix(Y_test, y_pred))"
   ]
  },
  {
   "cell_type": "markdown",
   "id": "559c0ef7",
   "metadata": {},
   "source": [
    "After understanding the client's perspective, the goal of my project was to predict whether a patient is at high risk of experiencing a stroke based on the various features provided in the dataset. The client wanted a solution that would perform well for both well and at risk persons.\n",
    "\n",
    "The dataset provided to us is an imbalanced one with significantly fewer stroke cases compared to non stroke cases. After reading the articles provided to us by the medical team I performed feture selection and then converted some numerical features into categorical ones.\n",
    "\n",
    "I then performed visualization on various features to understand their effects on stroke and then prepared the dataframe by encoding it so that it could be used in the model. I performed SMOTE(Synthetic Minority Over Sampling technique) to tackle the imbalance in the datset. I split the datset into train(70%), validation(15%) and test(15%).\n",
    "\n",
    "After researching and performing trial and error I chose XBGClassifier as it has high performance on classification problems involving imbalanced dataset. The other models I considered were SVM, Random Forest and Ensemble  methods. SVM and Random forest yielded lower recall compared to XGBClassifier. Ensemble methods showed improvements but increased the complexity.\n",
    "\n",
    "I used GridSearchCV to fine tune the hyperparameters of the model. The parameters I fine tuned were n_estimator, learning_rate, max_depth and scale_pos_weight. I chose to fine tume scale_pos_weight as it allows us to provide a weight to positive class. By fine tuning it, XGBoost will penalize the misclassification of the positive class more heavily than negive class. The score we use to evaluate our gridsearchcv is F1 score as it gives better result for imbalanced dataset.\n",
    "\n",
    "To evaluate our model we will give more importance to precision and recall rather than accuracy as the dataset is imbalanced. The recall of our model for stroke class is 0.84 and precision for stroke class came out to be 0.09. Having a high recall shows that our model identifies most stroke cases, even at the cost of more false positives. This trade-off is clinically justified as missing a stroke is more costlier than a false alarm. "
   ]
  }
 ],
 "metadata": {
  "kernelspec": {
   "display_name": "Python 3 (ipykernel)",
   "language": "python",
   "name": "python3"
  },
  "language_info": {
   "codemirror_mode": {
    "name": "ipython",
    "version": 3
   },
   "file_extension": ".py",
   "mimetype": "text/x-python",
   "name": "python",
   "nbconvert_exporter": "python",
   "pygments_lexer": "ipython3",
   "version": "3.13.5"
  }
 },
 "nbformat": 4,
 "nbformat_minor": 5
}
